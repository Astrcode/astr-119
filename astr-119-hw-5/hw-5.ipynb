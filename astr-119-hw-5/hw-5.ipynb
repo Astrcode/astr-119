{
 "cells": [
  {
   "cell_type": "code",
   "execution_count": null,
   "id": "361ee3cd",
   "metadata": {},
   "outputs": [],
   "source": [
    "#Homework 5\n",
    "%matplotlib inline\n",
    "import numpy as np\n",
    "import matplotlib.pyplot as plt"
   ]
  },
  {
   "cell_type": "code",
   "execution_count": null,
   "id": "cc9f4b7f",
   "metadata": {},
   "outputs": [],
   "source": [
    "def func(x):\n",
    "    a = -2\n",
    "    b = 10\n",
    "    return np.exp(a*x)* np.cos(b*x)"
   ]
  },
  {
   "cell_type": "code",
   "execution_count": null,
   "id": "81047a9a",
   "metadata": {},
   "outputs": [],
   "source": [
    "def func_integral(x):\n",
    "    a = -2\n",
    "    b = 10\n",
    "    return 5*np.exp(a*x)*np.sin(b*x)/52-np.exp(a*x)*np.cos(b*x)/52"
   ]
  },
  {
   "cell_type": "code",
   "execution_count": null,
   "id": "60cb3c7d",
   "metadata": {},
   "outputs": [],
   "source": [
    "def trapezoid_core(f,x,h):\n",
    "    return 0.5*h*(f(x+h) + f(x))"
   ]
  },
  {
   "cell_type": "code",
   "execution_count": null,
   "id": "0c62f9e3",
   "metadata": {},
   "outputs": [],
   "source": [
    "def trapezoid_method(f,a,b,N):\n",
    "    #f == function to integrate\n",
    "    #a == lower limit of integration\n",
    "    #b == upper limit of integration\n",
    "    #N == number of function evalutations to use\n",
    "    \n",
    "    #define x values to perform trapezoid rule\n",
    "    x = np.linspace(a,b,N)\n",
    "    h = x[1]-x[0]\n",
    "    \n",
    "    #define the value of the integral\n",
    "    Fint = 0.0\n",
    "    \n",
    "    #peform the integral using the trapezoid method\n",
    "    for i in range(0,len(x)-1,1):\n",
    "        Fint += trapezoid_core(f,x[i],h)\n",
    "        \n",
    "    #return the answer\n",
    "    return Fint"
   ]
  },
  {
   "cell_type": "code",
   "execution_count": null,
   "id": "b1501ad7",
   "metadata": {},
   "outputs": [],
   "source": [
    "def simpsons_core(f,x,h):\n",
    "    return h*(f(x) + 4*f(x+h) + f(x+2*h))/3."
   ]
  },
  {
   "cell_type": "code",
   "execution_count": null,
   "id": "21812e80",
   "metadata": {},
   "outputs": [],
   "source": [
    "def simpsons_method(f,a,b,N):\n",
    "    #f == function to integrate\n",
    "    #a == lower limit of integration\n",
    "    #b == upper limit of integration\n",
    "    #N == number of intervals to use\n",
    "    #note the number of chunks will be N-1 so if N is odd, then we don't need to adjust the last segment\n",
    "    \n",
    "    #define x values to perform simpsons rule\n",
    "    x = np.linspace(a,b,N)\n",
    "    h = x[1]-x[0]\n",
    "    \n",
    "    #define the value of the integral\n",
    "    Fint = 0.0\n",
    "    \n",
    "    #perform the integral using simpson's method\n",
    "    for i in range(0,len(x)-2,2):\n",
    "        Fint += simpsons_core(f,x[i],h)\n",
    "        \n",
    "    #apply simpson's rule over the last interval if N is even\n",
    "    if((N%2)==0):\n",
    "        Fint += simpsons_core(f,x[-2],0.5*h)\n",
    "    \n",
    "    #return the answert\n",
    "    return Fint"
   ]
  },
  {
   "cell_type": "code",
   "execution_count": null,
   "id": "f11e0f0a",
   "metadata": {},
   "outputs": [],
   "source": [
    "def romberg_core(f,a,b,i):\n",
    "    \n",
    "    #we need the differene between a and b\n",
    "    h = b-a\n",
    "    \n",
    "    #interval between function evaluations at refine level i\n",
    "    dh= h/2.**(i)\n",
    "    \n",
    "    #we need the cofactor\n",
    "    K = h/2.**(i+1)\n",
    "    \n",
    "    #and the function evaluations\n",
    "    M = 0.0\n",
    "    for j in range(2**i):\n",
    "        M += f(a + 0.5*dh + j*dh)\n",
    "        \n",
    "    #return the answer\n",
    "    return K*M"
   ]
  },
  {
   "cell_type": "code",
   "execution_count": null,
   "id": "ac20a380",
   "metadata": {},
   "outputs": [],
   "source": [
    "def romberg_integration(f,a,b,tol):\n",
    "    \n",
    "    #define an interation variable\n",
    "    i=0\n",
    "    \n",
    "    #define a max number of iterations\n",
    "    imax = 1000\n",
    "    \n",
    "    #define an error estimate\n",
    "    delta = 100.0*np.fabs(tol)\n",
    "    \n",
    "    #set an array of integral answers\n",
    "    I = np.zeros(imax,dtype=float)\n",
    "    \n",
    "    #get the zeroth romberg iteration first\n",
    "    I[0]= 0.5*(b-a)*(f(a) + f(b))\n",
    "    \n",
    "    #iterate by 1\n",
    "    i += 1\n",
    "    \n",
    "    #iterate until we reach tolerance\n",
    "    while(delta>tol):\n",
    "        \n",
    "        #find this Romberg iteration\n",
    "        I[i] = 0.5*I[i-1] + romberg_core(f,a,b,i)\n",
    "        \n",
    "        #compute the new fractional error estimate\n",
    "        delta = np.fabs((I[i]-I[i-1])/I[i])\n",
    "        \n",
    "        print(i,I[i],I[i-1],delta)\n",
    "        \n",
    "        if(delta>tol):\n",
    "            \n",
    "            #iterate\n",
    "            i+=1\n",
    "            \n",
    "            #if we reached the maximum iterations\n",
    "            if(i>imax):\n",
    "                print(\"Max iterations reached.\")\n",
    "                raise StopIteration('Stoppin interations after ',i)\n",
    "    \n",
    "    #return the answer\n",
    "    return I[i]"
   ]
  },
  {
   "cell_type": "code",
   "execution_count": null,
   "id": "ce8e06ad",
   "metadata": {},
   "outputs": [],
   "source": [
    "Answer = func_integral(np.pi)-func_integral(0)\n",
    "print(Answer)\n",
    "print(\"Trapezoid\")\n",
    "print(trapezoid_method(func,0,np.pi,1000000))\n",
    "print(\"Simpson's Method\")\n",
    "print(simpsons_method(func,0,np.pi,1000000))\n",
    "print(\"Romberg\")\n",
    "tolerance = 1.0e-4\n",
    "RI = romberg_integration(func,0,np.pi,tolerance)\n",
    "print(RI, (RI-Answer)/Answer, tolerance)\n",
    "\n",
    "print(\"The romberg integration took 19 iterations.\")\n",
    "print(\"The trapezoid method needed 1000000 intervals.\")\n",
    "print(\"Simpson's method needed 1000000 intervals.\")\n"
   ]
  },
  {
   "cell_type": "code",
   "execution_count": null,
   "id": "8eb6ed71",
   "metadata": {},
   "outputs": [],
   "source": []
  }
 ],
 "metadata": {
  "kernelspec": {
   "display_name": "Python 3 (ipykernel)",
   "language": "python",
   "name": "python3"
  },
  "language_info": {
   "codemirror_mode": {
    "name": "ipython",
    "version": 3
   },
   "file_extension": ".py",
   "mimetype": "text/x-python",
   "name": "python",
   "nbconvert_exporter": "python",
   "pygments_lexer": "ipython3",
   "version": "3.9.7"
  }
 },
 "nbformat": 4,
 "nbformat_minor": 5
}
