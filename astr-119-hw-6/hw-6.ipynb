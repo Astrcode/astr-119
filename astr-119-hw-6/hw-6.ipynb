{
 "cells": [
  {
   "cell_type": "code",
   "execution_count": 1,
   "id": "e854a75a",
   "metadata": {},
   "outputs": [],
   "source": [
    "%matplotlib inline\n",
    "import numpy as np\n",
    "import matplotlib.pyplot as plt"
   ]
  },
  {
   "cell_type": "code",
   "execution_count": 2,
   "id": "40076b85",
   "metadata": {},
   "outputs": [],
   "source": [
    "def dydx(x,y):\n",
    "    \n",
    "    #set the dervatives \n",
    "    #our equation is d^2y/dx^2 = -y\n",
    "    \n",
    "    #so we can write\n",
    "    #dy/dx = z\n",
    "    #dz/dx = -y\n",
    "    \n",
    "    #we will set y=y[0] and z=y[1]\n",
    "    \n",
    "    #declare an array\n",
    "    y_derivs=np.zeros(2)\n",
    "    \n",
    "    #set dydx=z\n",
    "    y_derivs[0]=y[1]\n",
    "    \n",
    "    #set dzdx = -y\n",
    "    y_derivs[1] = -1*y[0]\n",
    "    \n",
    "    #return the derivatives\n",
    "    return y_derivs\n",
    "\n",
    "\n",
    "#y(x=0)=0\n",
    "#dydx(x=0)=1"
   ]
  },
  {
   "cell_type": "code",
   "execution_count": 3,
   "id": "d602a742",
   "metadata": {},
   "outputs": [],
   "source": [
    "def rk4_mv_core(dydx,xi,yi,nv,h):\n",
    "    \n",
    "    #declare k? arrays\n",
    "    k1 = np.zeros(nv)\n",
    "    k2 = np.zeros(nv)\n",
    "    k3 = np.zeros(nv)\n",
    "    k4 = np.zeros(nv)\n",
    "    k5 = np.zeros(nv)\n",
    "    k6 = np.zeros(nv)\n",
    "    \n",
    "    #define x at 1/2 step\n",
    "    x_ipoh = xi + 0.5*h\n",
    "    \n",
    "    #define x at 1 step\n",
    "    x_ipo = xi + h\n",
    "    \n",
    "    #define a temp y array\n",
    "    y_temp = np.zeros(nv)\n",
    "    \n",
    "    #get k1 values\n",
    "    y_derivs = dydx(xi,yi)\n",
    "    k1[:] =h*y_derivs[:]\n",
    "    \n",
    "    #get k2 values\n",
    "    y_temp[:] = yi[:] + 0.5*k1[:]\n",
    "    y_derivs = dydx(xi+0.2*h,yi+0.2*k1)\n",
    "    k2[:] = h*y_derivs[:]\n",
    "    \n",
    "    #get k3 values\n",
    "    y_temp[:] = yi[:] + 0.5*k2[:]\n",
    "    y_derivs = dydx(xi+0.3*h,yi+0.075*k1+0.225*k2)\n",
    "    k3[:] = h*y_derivs[:]\n",
    "    \n",
    "    #get k4 values\n",
    "    y_temp[:] = yi[:] + 0.5*k3[:]\n",
    "    y_derivs = dydx(xi+0.6*h,yi+0.3*k1-0.9*k2+1.2*k3)\n",
    "    k4[:] = h*y_derivs[:]\n",
    "    \n",
    "    #get k5 values\n",
    "    y_temp[:] = yi[:] + 0.5*k4[:]\n",
    "    y_derivs = dydx(xi+h,yi-11*k1/54+2.5*k2-70*k3/27+35*k4/27)\n",
    "    k5[:] = h*y_derivs[:]\n",
    "    \n",
    "    #get k6 values\n",
    "    y_temp[:] = yi[:] + k5[:]\n",
    "    y_derivs = dydx(xi+0.875*h,yi+1631.*k1/55296.+175.*k2/512.+575.*k3/13824.+44275.*k4/110592.+253*k5/4096)\n",
    "    k6[:] = h*y_derivs[:]\n",
    "    \n",
    "    #advance y by a step h\n",
    "    yipo = yi + (37.*k1/378. + 250.*k3/621. + 125.*k4/594. + 512.*k6/1771.)\n",
    "    yipos = yi + (2825.*k1/27648. + 18575.*k3/48384. + 13525.*k4/55296. + 277.*k5/14336. + .25*k6)\n",
    "    \n",
    "    return yipo,yipos"
   ]
  },
  {
   "cell_type": "code",
   "execution_count": 4,
   "id": "6fe1dee6",
   "metadata": {},
   "outputs": [],
   "source": [
    "def rk4_mv_ad(dydx,x_i,y_i,nv,h,tol):\n",
    "    \n",
    "    #define saftey scale\n",
    "    SAFETY    = 0.9\n",
    "    H_NEW_FAC = 2.0\n",
    "    \n",
    "    #set a maximum number of iterations\n",
    "    imax = 10000\n",
    "    \n",
    "    #set an iteration variable\n",
    "    i = 0\n",
    "    \n",
    "    #create an error\n",
    "    Delta = np.full(nv,2*tol)\n",
    "    \n",
    "    #remember the step\n",
    "    h_step = h\n",
    "    \n",
    "    #adjust step\n",
    "    while(Delta.max()/tol > 1.0):\n",
    "        \n",
    "        #estimate our error by taking one step of size h vs. two steps of size h/2\n",
    "        y_2,y_11 = rk4_mv_core(dydx,x_i,y_i,nv,h_step)\n",
    "        \n",
    "        #compute an error\n",
    "        Delta = np.fabs(y_2 - y_11)\n",
    "        \n",
    "        #if the error is too large take a smaller step\n",
    "        if(Delta.max()/tol > 1.0):\n",
    "            \n",
    "            #our error is too large, decrease the step\n",
    "            h_step *= SAFETY * (Delta.max()/tol)**(-0.25)\n",
    "            \n",
    "        #check iteration\n",
    "        if(i>=imax):\n",
    "            print(\"Too many iterations in rk4_mv_ad()\")\n",
    "            raise StopIteration(\"Ending after i = \",i)\n",
    "            \n",
    "        #iterate\n",
    "        i+=1\n",
    "        \n",
    "    #next time try to take a bigger step\n",
    "    h_new = np.fmin(h_step * (Delta.max()/tol)**(-0.9), h_step*H_NEW_FAC)\n",
    "    \n",
    "    #return the answer, a new step, and the step we acutally took\n",
    "    return y_2, h_new, h_step"
   ]
  },
  {
   "cell_type": "code",
   "execution_count": 5,
   "id": "b1cd8ef9",
   "metadata": {},
   "outputs": [],
   "source": [
    "def rk4_mv(dydx,a,b,y_a,tol):\n",
    "    \n",
    "    #dfdx is the derivative wrt x\n",
    "    #a is the lower bound\n",
    "    #b is the upper bound\n",
    "    #y_a are the boundary conditions\n",
    "    #tol is the tolerance for integrating y\n",
    "    \n",
    "    #define out starting step\n",
    "    xi = a\n",
    "    yi = y_a.copy()\n",
    "    \n",
    "    #an inital step size == make very small\n",
    "    h = 1.0e-4 * (b-a)\n",
    "    \n",
    "    #sey a maximum number of iterations \n",
    "    imax = 10000\n",
    "    \n",
    "    #set an interation variable\n",
    "    i = 0\n",
    "    \n",
    "    #set the number of couples odes to the size of y_a\n",
    "    nv = len(y_a)\n",
    "    \n",
    "    #set the inital conditions\n",
    "    x = np.full(1,a)\n",
    "    y = np.full((1,nv),y_a)\n",
    "    \n",
    "    #set a flag\n",
    "    flag = 1\n",
    "    \n",
    "    #loop until we reach the right side\n",
    "    while(flag):\n",
    "        \n",
    "        #calculate y_i+1\n",
    "        yi_new, h_new, h_step = rk4_mv_ad(dydx,xi,yi,nv,h,tol)\n",
    "        \n",
    "        #update the step\n",
    "        h = h_new\n",
    "        \n",
    "        #prevent an overshoot\n",
    "        if(xi+h_step>b):\n",
    "            \n",
    "            #take a smaller step\n",
    "            h = b-xi\n",
    "            \n",
    "            #recalculate y_i+1\n",
    "            yi_new, h_new, h_step = rk4_mv_ad(dydx,xi,yi,nv,h,tol)\n",
    "            \n",
    "            #break \n",
    "            flag = 0\n",
    "            \n",
    "        #update values\n",
    "        xi += h_step\n",
    "        yi[:] = yi_new[:]\n",
    "        \n",
    "        #add the step to the arrays\n",
    "        x = np.append(x,xi)\n",
    "        y_new = np.zeros((len(x),nv))\n",
    "        y_new[0:len(x)-1,:] = y\n",
    "        y_new[-1,:] = yi[:]\n",
    "        del y\n",
    "        y = y_new\n",
    "        \n",
    "        #prevent too many iterations\n",
    "        if(i>=imax):\n",
    "            print(\"Maximum iterations reached.\")\n",
    "            raise StopIteration(\"Iteration number = \",i)\n",
    "            \n",
    "        #iterate \n",
    "        i += 1\n",
    "        \n",
    "        #output some information\n",
    "        s = \"i = %3d\\tx = %9.8f\\th = %9.8f\\tb=%9.8f\" % (i,xi, h_step, b)\n",
    "        print(s)\n",
    "        \n",
    "        #break if new xi is == b\n",
    "        if(xi==b):\n",
    "            flag = 0\n",
    "            \n",
    "    #return the answer\n",
    "    return x,y"
   ]
  },
  {
   "cell_type": "code",
   "execution_count": 6,
   "id": "1dad7452",
   "metadata": {},
   "outputs": [
    {
     "name": "stdout",
     "output_type": "stream",
     "text": [
      "i =   1\tx = 0.00062832\th = 0.00062832\tb=6.28318531\n",
      "i =   2\tx = 0.00188496\th = 0.00125664\tb=6.28318531\n",
      "i =   3\tx = 0.00439823\th = 0.00251327\tb=6.28318531\n",
      "i =   4\tx = 0.00942478\th = 0.00502655\tb=6.28318531\n",
      "i =   5\tx = 0.01947787\th = 0.01005310\tb=6.28318531\n",
      "i =   6\tx = 0.03958407\th = 0.02010619\tb=6.28318531\n",
      "i =   7\tx = 0.07979645\th = 0.04021239\tb=6.28318531\n",
      "i =   8\tx = 0.16022123\th = 0.08042477\tb=6.28318531\n",
      "i =   9\tx = 0.32107077\th = 0.16084954\tb=6.28318531\n",
      "i =  10\tx = 0.64276986\th = 0.32169909\tb=6.28318531\n",
      "i =  11\tx = 0.93739384\th = 0.29462398\tb=6.28318531\n",
      "i =  12\tx = 1.20675386\th = 0.26936002\tb=6.28318531\n",
      "i =  13\tx = 1.49426997\th = 0.28751611\tb=6.28318531\n",
      "i =  14\tx = 1.76344767\th = 0.26917769\tb=6.28318531\n",
      "i =  15\tx = 2.03076151\th = 0.26731385\tb=6.28318531\n",
      "i =  16\tx = 2.29758389\th = 0.26682237\tb=6.28318531\n",
      "i =  17\tx = 2.56844699\th = 0.27086310\tb=6.28318531\n",
      "i =  18\tx = 2.84768738\th = 0.27924039\tb=6.28318531\n",
      "i =  19\tx = 3.12869484\th = 0.28100745\tb=6.28318531\n",
      "i =  20\tx = 3.39732623\th = 0.26863139\tb=6.28318531\n",
      "i =  21\tx = 3.66411066\th = 0.26678443\tb=6.28318531\n",
      "i =  22\tx = 3.93155133\th = 0.26744067\tb=6.28318531\n",
      "i =  23\tx = 4.20391433\th = 0.27236300\tb=6.28318531\n",
      "i =  24\tx = 4.48601277\th = 0.28209844\tb=6.28318531\n",
      "i =  25\tx = 4.76275451\th = 0.27674175\tb=6.28318531\n",
      "i =  26\tx = 5.03073667\th = 0.26798215\tb=6.28318531\n",
      "i =  27\tx = 5.29729916\th = 0.26656249\tb=6.28318531\n",
      "i =  28\tx = 5.56553774\th = 0.26823858\tb=6.28318531\n",
      "i =  29\tx = 5.83966631\th = 0.27412857\tb=6.28318531\n",
      "i =  30\tx = 6.12503238\th = 0.28536607\tb=6.28318531\n",
      "i =  31\tx = 6.28318531\th = 0.15815293\tb=6.28318531\n"
     ]
    },
    {
     "name": "stderr",
     "output_type": "stream",
     "text": [
      "C:\\Users\\HP\\AppData\\Local\\Temp/ipykernel_10700/3990577233.py:43: RuntimeWarning: divide by zero encountered in double_scalars\n",
      "  h_new = np.fmin(h_step * (Delta.max()/tol)**(-0.9), h_step*H_NEW_FAC)\n"
     ]
    }
   ],
   "source": [
    "a = 0.0\n",
    "b = 2.0 * np.pi\n",
    "\n",
    "y_0 = np.zeros(2)\n",
    "y_0[0] = 0.0\n",
    "y_0[1] = 1.0\n",
    "nv = 2\n",
    "\n",
    "tolerance = 1.0e-6\n",
    "\n",
    "#perform the integration\n",
    "x,y = rk4_mv(dydx,a,b,y_0,tolerance)"
   ]
  },
  {
   "cell_type": "code",
   "execution_count": 7,
   "id": "a876ec20",
   "metadata": {},
   "outputs": [
    {
     "data": {
      "text/plain": [
       "<matplotlib.legend.Legend at 0x254544d5d00>"
      ]
     },
     "execution_count": 7,
     "metadata": {},
     "output_type": "execute_result"
    },
    {
     "data": {
      "image/png": "[encoded data removed]",
      "text/plain": [
       "<Figure size 432x288 with 1 Axes>"
      ]
     },
     "metadata": {
      "needs_background": "light"
     },
     "output_type": "display_data"
    }
   ],
   "source": [
    "plt.plot(x,y[:,0],'o', label='y(x)')\n",
    "plt.plot(x,y[:,1],'o', label='dydx(x)')\n",
    "xx = np.linspace(0,2.0*np.pi,1000)\n",
    "plt.plot(xx,np.sin(xx),label='sin(x)')\n",
    "plt.plot(xx,np.cos(xx),label='cos(x)')\n",
    "plt.xlabel('x')\n",
    "plt.ylabel('y,dy/dx')\n",
    "plt.legend(frameon=False)"
   ]
  },
  {
   "cell_type": "code",
   "execution_count": 8,
   "id": "5661457e",
   "metadata": {},
   "outputs": [
    {
     "data": {
      "text/plain": [
       "<matplotlib.legend.Legend at 0x254545f8a90>"
      ]
     },
     "execution_count": 8,
     "metadata": {},
     "output_type": "execute_result"
    },
    {
     "data": {
      "image/png": "[encoded data removed]",
      "text/plain": [
       "<Figure size 432x288 with 1 Axes>"
      ]
     },
     "metadata": {
      "needs_background": "light"
     },
     "output_type": "display_data"
    }
   ],
   "source": [
    "sine = np.sin(x)\n",
    "cosine = np.cos(x)\n",
    "\n",
    "y_error = (y[:,0]-sine)\n",
    "dydx_error = (y[:,1]-cosine)\n",
    "\n",
    "plt.plot(x,y_error, label=\"y(x) Error\")\n",
    "plt.plot(x,dydx_error, label=\"dydx(x) Error\")\n",
    "plt.legend(frameon=False)"
   ]
  },
  {
   "cell_type": "code",
   "execution_count": null,
   "id": "770b029e",
   "metadata": {},
   "outputs": [],
   "source": []
  }
 ],
 "metadata": {
  "kernelspec": {
   "display_name": "Python 3 (ipykernel)",
   "language": "python",
   "name": "python3"
  },
  "language_info": {
   "codemirror_mode": {
    "name": "ipython",
    "version": 3
   },
   "file_extension": ".py",
   "mimetype": "text/x-python",
   "name": "python",
   "nbconvert_exporter": "python",
   "pygments_lexer": "ipython3",
   "version": "3.9.7"
  }
 },
 "nbformat": 4,
 "nbformat_minor": 5
}
