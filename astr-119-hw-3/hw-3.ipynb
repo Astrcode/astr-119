{
 "cells": [
  {
   "cell_type": "code",
   "execution_count": null,
   "id": "7dcc571e",
   "metadata": {},
   "outputs": [],
   "source": [
    "#Homework 3\n",
    "%matplotlib inline\n",
    "import numpy as np\n",
    "import matplotlib.pyplot as plt"
   ]
  },
  {
   "cell_type": "code",
   "execution_count": null,
   "id": "92a36fbe",
   "metadata": {},
   "outputs": [],
   "source": [
    "x = np.linspace(0,2*(np.pi),1000)                  #range of x with 1000 values\n",
    "y = np.linspace(-1,1,)                             #range of y with 1000 values \n",
    "y1 = 5.5*np.cos(2*x)+5.5 ;                         #Initial equation y1\n",
    "y2 =.02*np.exp(x)                                  #Initial equation y2    \n",
    "y3 =.25*x**2+.1*np.sin(10*x)                       #Initial equation y3\n",
    "plt.plot(x,y1)                                     #make a plot for y1\n",
    "plt.plot(x,y2)                                     #make a plot for y2  \n",
    "plt.plot(x,y3)                                     #make a plot for y3\n",
    "plt.xlabel('Time in ASTR 119')                     #label x axis\n",
    "plt.ylabel('Measures of Awesomeness')              #label y axis\n",
    "plt.title('Homework 3')                            #Title of graph\n",
    "plt.show()                                         #show the plot on the screen\n",
    "plt.savefig('sin.png',bbox_inches=\"tight\",dpi=600) #show resolution of graph plot\n",
    "#This code can graph any plot within the provided ranges of x and y  "
   ]
  },
  {
   "cell_type": "code",
   "execution_count": null,
   "id": "e152f8b1",
   "metadata": {},
   "outputs": [],
   "source": [
    "#This code can graph any plot within the provided ranges of x and y  \n",
    "len(x)                   #l\n",
    "print(x[0])              #Prints out the first element x[0]\n",
    "print(x[-1]/(2*np.pi))   #Prints out \n",
    "print(len(x))            #Prints out"
   ]
  },
  {
   "cell_type": "code",
   "execution_count": null,
   "id": "19c9a9d9",
   "metadata": {},
   "outputs": [],
   "source": []
  }
 ],
 "metadata": {
  "kernelspec": {
   "display_name": "Python 3 (ipykernel)",
   "language": "python",
   "name": "python3"
  },
  "language_info": {
   "codemirror_mode": {
    "name": "ipython",
    "version": 3
   },
   "file_extension": ".py",
   "mimetype": "text/x-python",
   "name": "python",
   "nbconvert_exporter": "python",
   "pygments_lexer": "ipython3",
   "version": "3.9.7"
  }
 },
 "nbformat": 4,
 "nbformat_minor": 5
}
